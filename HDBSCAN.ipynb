{
 "cells": [
  {
   "cell_type": "code",
   "execution_count": null,
   "id": "5a39d0e5",
   "metadata": {},
   "outputs": [],
   "source": [
    "print(\"1\")"
   ]
  },
  {
   "cell_type": "code",
   "execution_count": null,
   "id": "bb0cb6bf",
   "metadata": {},
   "outputs": [],
   "source": [
    "import os\n",
    "import io\n",
    "from PIL import Image\n",
    "import cv2\n",
    "import keras_ocr\n",
    "from hdbscan_code import *\n",
    "import matplotlib.pyplot as plt\n",
    "import math\n",
    "import numpy as np"
   ]
  },
  {
   "cell_type": "code",
   "execution_count": null,
   "id": "f863a5b8",
   "metadata": {},
   "outputs": [],
   "source": [
    "!pip install opencv-python"
   ]
  },
  {
   "cell_type": "code",
   "execution_count": null,
   "id": "6ab17f1c",
   "metadata": {},
   "outputs": [],
   "source": [
    "import os\n",
    "import io\n",
    "from PIL import Image\n",
    "import cv2\n",
    "import keras_ocr\n",
    "from hdbscan_code import *\n",
    "import matplotlib.pyplot as plt\n",
    "import math\n",
    "import numpy as np"
   ]
  },
  {
   "cell_type": "code",
   "execution_count": null,
   "id": "878a4c77",
   "metadata": {},
   "outputs": [],
   "source": []
  },
  {
   "cell_type": "code",
   "execution_count": null,
   "id": "f57c46cc",
   "metadata": {},
   "outputs": [],
   "source": [
    "!pip install keras"
   ]
  },
  {
   "cell_type": "code",
   "execution_count": null,
   "id": "586de436",
   "metadata": {},
   "outputs": [],
   "source": [
    "import os\n",
    "import io\n",
    "from PIL import Image\n",
    "import cv2\n",
    "import keras_ocr\n",
    "from hdbscan_code import *\n",
    "import matplotlib.pyplot as plt\n",
    "import math\n",
    "import numpy as np"
   ]
  },
  {
   "cell_type": "code",
   "execution_count": null,
   "id": "724470ee",
   "metadata": {},
   "outputs": [],
   "source": [
    "!pip install keras-ocr"
   ]
  },
  {
   "cell_type": "code",
   "execution_count": null,
   "id": "6208ce6a",
   "metadata": {},
   "outputs": [],
   "source": [
    "import os\n",
    "import io\n",
    "from PIL import Image\n",
    "import cv2\n",
    "import keras_ocr\n",
    "from hdbscan_code import *\n",
    "import matplotlib.pyplot as plt\n",
    "import math\n",
    "import numpy as np"
   ]
  },
  {
   "cell_type": "code",
   "execution_count": null,
   "id": "aea07e73",
   "metadata": {},
   "outputs": [],
   "source": [
    "import os\n",
    "import io\n",
    "from PIL import Image\n",
    "import cv2\n",
    "import keras_ocr\n",
    "from hdbscan_code import *\n",
    "import matplotlib.pyplot as plt\n",
    "import math\n",
    "import numpy as np"
   ]
  },
  {
   "cell_type": "code",
   "execution_count": null,
   "id": "2a996a14",
   "metadata": {},
   "outputs": [],
   "source": [
    "!pip install keras-ocr"
   ]
  },
  {
   "cell_type": "code",
   "execution_count": null,
   "id": "49228f30",
   "metadata": {},
   "outputs": [],
   "source": [
    "!pip install keras-ocr"
   ]
  },
  {
   "cell_type": "code",
   "execution_count": null,
   "id": "b07029c0",
   "metadata": {},
   "outputs": [],
   "source": [
    "import os\n",
    "import io\n",
    "from PIL import Image\n",
    "import cv2\n",
    "import keras_ocr\n",
    "from hdbscan_code import *\n",
    "import matplotlib.pyplot as plt\n",
    "import math\n",
    "import numpy as np"
   ]
  },
  {
   "cell_type": "code",
   "execution_count": null,
   "id": "513867c8",
   "metadata": {},
   "outputs": [],
   "source": [
    "!pip install keras"
   ]
  },
  {
   "cell_type": "code",
   "execution_count": null,
   "id": "3a0a0438",
   "metadata": {},
   "outputs": [],
   "source": [
    "!pip install keras-ocr"
   ]
  },
  {
   "cell_type": "code",
   "execution_count": null,
   "id": "cb53d245",
   "metadata": {},
   "outputs": [],
   "source": [
    "import keras_ocr"
   ]
  },
  {
   "cell_type": "code",
   "execution_count": null,
   "id": "93f784f2",
   "metadata": {},
   "outputs": [],
   "source": [
    "!pip3 uninstall tensorflow absl-py astunparse flatbuffers gast google-pasta grpcio h5py keras keras-preprocessing libclang numpy opt-einsum protobuf setuptools six tensorboard tensorflow-io-gcs-filesystem termcolor tf-estimator-nightly typing-extensions wrapt\n"
   ]
  },
  {
   "cell_type": "code",
   "execution_count": null,
   "id": "f981b82b",
   "metadata": {},
   "outputs": [],
   "source": [
    "y"
   ]
  },
  {
   "cell_type": "code",
   "execution_count": null,
   "id": "b546d486",
   "metadata": {},
   "outputs": [],
   "source": [
    "Y"
   ]
  },
  {
   "cell_type": "code",
   "execution_count": null,
   "id": "1f825944",
   "metadata": {},
   "outputs": [],
   "source": [
    "!pip3 uninstall tensorflow absl-py astunparse flatbuffers gast google-pasta grpcio h5py keras keras-preprocessing libclang numpy opt-einsum protobuf setuptools six tensorboard tensorflow-io-gcs-filesystem termcolor tf-estimator-nightly typing-extensions wrapt\n"
   ]
  },
  {
   "cell_type": "code",
   "execution_count": 51,
   "id": "3dc6150c",
   "metadata": {},
   "outputs": [],
   "source": [
    "import os\n",
    "import io\n",
    "from PIL import Image\n",
    "import cv2\n",
    "import keras_ocr\n",
    "# from hdbscan_code import *\n",
    "import matplotlib.pyplot as plt\n",
    "import math\n",
    "import numpy as np"
   ]
  },
  {
   "cell_type": "code",
   "execution_count": 52,
   "id": "f4dbb9b1",
   "metadata": {},
   "outputs": [],
   "source": [
    "path = \"/Users/aadyagoel/Desktop/5d79aeee-e453-4f53-823f-b793db67ddfb.jpg\""
   ]
  },
  {
   "cell_type": "code",
   "execution_count": 53,
   "id": "c779003a",
   "metadata": {},
   "outputs": [],
   "source": [
    "def inpaint_text(image):\n",
    "\n",
    "    # read input image\n",
    "\n",
    "    img = Image.open(io.BytesIO(image))\n",
    "\n",
    "    img = np.array(img)\n",
    "\n",
    "    orginal_image = img\n",
    "\n",
    "    # create ocr pipeline\n",
    "\n",
    "    pipeline = keras_ocr.pipeline.Pipeline()\n",
    "\n",
    "    # generate (word, box) tuples\n",
    "\n",
    "    try:\n",
    "\n",
    "        prediction_groups = pipeline.recognize([img])\n",
    "\n",
    "        mask = np.zeros(img.shape[:2], dtype=\"uint8\")\n",
    "\n",
    "        for box in prediction_groups[0]:\n",
    "\n",
    "            # draw rotated rectangle\n",
    "\n",
    "            rect = cv2.minAreaRect(np.int_(box[1]))\n",
    "\n",
    "            box_1 = cv2.boxPoints(rect)\n",
    "\n",
    "            box_1 = np.int0(box_1)\n",
    "\n",
    "            cv2.drawContours(mask, [box_1], 0, 255, -1)\n",
    "\n",
    "            img = cv2.inpaint(img, mask, 7, cv2.INPAINT_NS)\n",
    "\n",
    "        return (orginal_image, img)\n",
    "\n",
    "    except Exception:\n",
    "\n",
    "        # add logs here\n",
    "\n",
    "        return (orginal_image, img)"
   ]
  },
  {
   "cell_type": "code",
   "execution_count": 54,
   "id": "238e7e8c",
   "metadata": {},
   "outputs": [],
   "source": [
    "# remove text using inpainting\n",
    "\n",
    "def remove_text(image):\n",
    "\n",
    "    orginal_image, remove_text_result = inpaint_text(image)\n",
    "\n",
    "    return orginal_image, remove_text_result"
   ]
  },
  {
   "cell_type": "code",
   "execution_count": 55,
   "id": "04c4dfe3",
   "metadata": {},
   "outputs": [],
   "source": [
    "# \"\"\"Funcyion to preocess single image\"\"\"\n",
    "\n",
    "def single_image_process(image_path, eps=120, min_count=3):\n",
    "\n",
    "    # opening images a bytes format\n",
    "\n",
    "    with open(image_path, 'rb') as f:\n",
    "\n",
    "        image_file = f.read()\n",
    "\n",
    "    print(type(image_file))\n",
    "\n",
    "    img = Image.open(io.BytesIO(image_file))\n",
    "\n",
    "    img = np.array(img)\n",
    "\n",
    "    orginal_image, img_text_removed = remove_text(image_file)\n",
    "\n",
    "    # generate keypoints, descriptors\n",
    "\n",
    "    image_detect = Detect(orginal_image, img_text_removed, \"orb\")\n",
    "\n",
    "    image_feature = image_detect.feature_detector()\n",
    "\n",
    "    # feature matching\n",
    "\n",
    "    image_locate_feature = image_detect.locateFeature_dbScan(eps, min_count)\n",
    "\n",
    "    print(\"ok\")\n",
    "\n",
    "    # print(image_locate_feature)\n",
    "\n",
    "    return image_locate_feature"
   ]
  },
  {
   "cell_type": "code",
   "execution_count": 166,
   "id": "96bebd8a",
   "metadata": {},
   "outputs": [
    {
     "name": "stdout",
     "output_type": "stream",
     "text": [
      "/Users/aadyagoel/Desktop/Input/istockphoto-90696596-612x612.jpg\n",
      "<class 'bytes'>\n",
      "Looking for /Users/aadyagoel/.keras-ocr/craft_mlt_25k.h5\n",
      "Looking for /Users/aadyagoel/.keras-ocr/crnn_kurapan.h5\n",
      "ok\n",
      "/Users/aadyagoel/Desktop/Input/e3328a1f-0f05-43da-af9e-1f5a7f0077f1.jpg\n",
      "<class 'bytes'>\n",
      "Looking for /Users/aadyagoel/.keras-ocr/craft_mlt_25k.h5\n",
      "Looking for /Users/aadyagoel/.keras-ocr/crnn_kurapan.h5\n",
      "1/1 [==============================] - 7s 7s/step\n",
      "1/1 [==============================] - 2s 2s/step\n",
      "ok\n",
      "/Users/aadyagoel/Desktop/Input/76eaaaa3-9744-4ae5-8017-faf99d1f352d.jpg\n",
      "<class 'bytes'>\n",
      "Looking for /Users/aadyagoel/.keras-ocr/craft_mlt_25k.h5\n"
     ]
    },
    {
     "name": "stderr",
     "output_type": "stream",
     "text": [
      "/var/folders/10/dx8psd_x6lx764jlzh59l0vr0000gn/T/ipykernel_63878/3150964305.py:43: DeprecationWarning: `np.int0` is a deprecated alias for `np.intp`.  (Deprecated NumPy 1.24)\n",
      "  box_1 = np.int0(box_1)\n"
     ]
    },
    {
     "name": "stdout",
     "output_type": "stream",
     "text": [
      "Looking for /Users/aadyagoel/.keras-ocr/crnn_kurapan.h5\n",
      "1/1 [==============================] - 4s 4s/step\n",
      "1/1 [==============================] - 2s 2s/step\n",
      "ok\n",
      "/Users/aadyagoel/Desktop/Input/images.jpg\n",
      "<class 'bytes'>\n",
      "Looking for /Users/aadyagoel/.keras-ocr/craft_mlt_25k.h5\n"
     ]
    },
    {
     "name": "stderr",
     "output_type": "stream",
     "text": [
      "/var/folders/10/dx8psd_x6lx764jlzh59l0vr0000gn/T/ipykernel_63878/3150964305.py:43: DeprecationWarning: `np.int0` is a deprecated alias for `np.intp`.  (Deprecated NumPy 1.24)\n",
      "  box_1 = np.int0(box_1)\n"
     ]
    },
    {
     "name": "stdout",
     "output_type": "stream",
     "text": [
      "Looking for /Users/aadyagoel/.keras-ocr/crnn_kurapan.h5\n",
      "1/1 [==============================] - 1s 1s/step\n",
      "1/1 [==============================] - 1s 1s/step\n",
      "ok\n",
      "done\n"
     ]
    },
    {
     "name": "stderr",
     "output_type": "stream",
     "text": [
      "/var/folders/10/dx8psd_x6lx764jlzh59l0vr0000gn/T/ipykernel_63878/3150964305.py:43: DeprecationWarning: `np.int0` is a deprecated alias for `np.intp`.  (Deprecated NumPy 1.24)\n",
      "  box_1 = np.int0(box_1)\n"
     ]
    }
   ],
   "source": [
    "path = \"/Users/aadyagoel/Desktop/Input\"\n",
    "\n",
    "for folder_path in [path]:\n",
    "\n",
    "    for filename in os.listdir(folder_path):\n",
    "\n",
    "        if (filename[-4:] == '.jpg'):\n",
    "\n",
    "            file_path = os.path.join(folder_path + \"/\" + str(filename))\n",
    "\n",
    "            print(file_path)\n",
    "\n",
    "            feature_matching = single_image_process(file_path)\n",
    "\n",
    "            # PIL\n",
    "\n",
    "            image = Image.open(io.BytesIO(feature_matching[0]))\n",
    "\n",
    "            flder_path = \"/Users/aadyagoel/Desktop/Optimised result/HDBSCAN Parametrs\"\n",
    "\n",
    "            # cv2.imwrite(folder_path + \"/\" + str(filename), image)\n",
    "\n",
    "            image.save(f\"{flder_path}/{str(filename)}\")\n",
    "print(\"done\")"
   ]
  },
  {
   "cell_type": "code",
   "execution_count": 165,
   "id": "b9021ba5",
   "metadata": {},
   "outputs": [],
   "source": [
    "from sklearn.cluster import DBSCAN\n",
    "import numpy as np\n",
    "import hdbscan\n",
    "import cv2\n",
    "from PIL import Image\n",
    "import io\n",
    "\n",
    "\n",
    "# Extracting keypoints and descriptors matching\n",
    "class Detect(object):\n",
    "\n",
    "    # intialize input parameters\n",
    "    def __init__(self, orginal_image, pre_porcessed_image, method):\n",
    "        self.orginal_image = orginal_image\n",
    "        self.pre_porcessed_image = pre_porcessed_image\n",
    "        self.method = method\n",
    "\n",
    "    def feature_detector(self):\n",
    "\n",
    "        if self.method == \"orb\":\n",
    "\n",
    "            # Initialize the ORB detector algorithm\n",
    "            orb = cv2.ORB_create()\n",
    "\n",
    "            # detect the keypoints and  the descriptors for the query image using ORB\n",
    "            self.keypoints, self.descriptors = orb.detectAndCompute(\n",
    "                self.pre_porcessed_image, None)\n",
    "\n",
    "        elif self.method == \"sift\":\n",
    "\n",
    "            # Initialize the SIFT detector algorithm\n",
    "            sift = cv2.SIFT_create()\n",
    "\n",
    "            # detect the keypoints and  the descriptors for the query image using SIFT\n",
    "            self.keypoints, self.descriptors = sift.detectAndCompute(\n",
    "                self.pre_porcessed_image, None)\n",
    "\n",
    "        return self.keypoints, self.descriptors\n",
    "\n",
    "    def locateFeature_dbScan(self, eps=95, min_samples=20):\n",
    "\n",
    "        # detectiong cluster based on similar features\n",
    "        if len(self.keypoints) > 0:\n",
    "            # clusters=DBSCAN(eps=eps, min_samples=min_samples).fit(self.descriptors)\n",
    "            clusters = hdbscan.HDBSCAN(\n",
    "                alpha=1.3, min_samples=min_samples, min_cluster_size=15)\n",
    "            # print(self.descriptors.shape)\n",
    "            # print(self.descriptors.T)\n",
    "            clusters.fit(self.descriptors)\n",
    "            size = np.unique(clusters.labels_).shape[0]-1\n",
    "            forgery = self.orginal_image.copy()\n",
    "\n",
    "        else:\n",
    "            img_orginal = cv2.cvtColor(self.orginal_image, cv2.COLOR_BGR2RGB)\n",
    "            img_orginal_pil = Image.fromarray(img_orginal)\n",
    "\n",
    "            # convert original into Bytes if there no manipulation and return as ouptput\n",
    "            buf = io.BytesIO()\n",
    "            img_orginal_pil.save(buf, format='JPEG')\n",
    "            img_orginal_bytes = buf.getvalue()\n",
    "\n",
    "            classification_label = \"Not Manipulated\"\n",
    "\n",
    "            return img_orginal_bytes, classification_label\n",
    "\n",
    "        # ckecking is there any matched similar features\n",
    "        if (size == 0) and (np.unique(clusters.labels_)[0] == -1):\n",
    "\n",
    "            img_orginal = cv2.cvtColor(self.orginal_image, cv2.COLOR_BGR2RGB)\n",
    "            img_orginal_pil = Image.fromarray(img_orginal)\n",
    "\n",
    "            # convert original into Bytes if there no manipulation and return as output\n",
    "            buf = io.BytesIO()\n",
    "            img_orginal_pil.save(buf, format='JPEG')\n",
    "            img_orginal_bytes = buf.getvalue()\n",
    "\n",
    "            classification_label = \"Not Manipulated\"\n",
    "\n",
    "            return img_orginal_bytes, classification_label\n",
    "\n",
    "        if size == 0:\n",
    "            size = 1\n",
    "\n",
    "        cluster_list = [[] for i in range(size)]\n",
    "\n",
    "        # iterating the clusrers to drawn lines between them\n",
    "        for idx in range(len(self.keypoints)):\n",
    "            if clusters.labels_[idx] != -1:\n",
    "                cluster_list[clusters.labels_[idx]].append(\n",
    "                    (int(self.keypoints[idx].pt[0]), int(self.keypoints[idx].pt[1])))\n",
    "\n",
    "        for points in cluster_list:\n",
    "            if len(points) > 1:\n",
    "                for idx1 in range(1, len(points)):\n",
    "                    cv2.line(forgery, points[0], points[idx1], (255, 0, 0), 2)\n",
    "\n",
    "        img_forgery_pil = Image.fromarray(forgery)\n",
    "\n",
    "        # classification based on matching\n",
    "        classification_label = ''\n",
    "        if self.keypoints:\n",
    "            match_ratio = size / len(self.keypoints)\n",
    "        else:\n",
    "            classification_label = \"Not Manipulated\"\n",
    "\n",
    "        if match_ratio > 0.01:\n",
    "            classification_label = \"Manipulated\"\n",
    "        else:\n",
    "            classification_label = \"Not Manipulated\"\n",
    "\n",
    "        # convert output into Bytes\n",
    "        buf = io.BytesIO()\n",
    "        img_forgery_pil.save(buf, format='JPEG')\n",
    "        img_forgery_bytes = buf.getvalue()\n",
    "\n",
    "        return img_forgery_bytes, classification_label"
   ]
  }
 ],
 "metadata": {
  "kernelspec": {
   "display_name": "Python 3 (ipykernel)",
   "language": "python",
   "name": "python3"
  },
  "language_info": {
   "codemirror_mode": {
    "name": "ipython",
    "version": 3
   },
   "file_extension": ".py",
   "mimetype": "text/x-python",
   "name": "python",
   "nbconvert_exporter": "python",
   "pygments_lexer": "ipython3",
   "version": "3.11.5"
  }
 },
 "nbformat": 4,
 "nbformat_minor": 5
}
